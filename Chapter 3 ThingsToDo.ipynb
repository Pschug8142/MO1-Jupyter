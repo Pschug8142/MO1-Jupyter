{
 "cells": [
  {
   "cell_type": "code",
   "execution_count": 10,
   "id": "63be658e",
   "metadata": {
    "scrolled": true
   },
   "outputs": [
    {
     "name": "stdout",
     "output_type": "stream",
     "text": [
      "3600 seconds per hour \n",
      "\n",
      "86400 seconds per day \n",
      "\n",
      "24.0 hours per day in float format\n",
      "24 hours per day in int format\n"
     ]
    }
   ],
   "source": [
    "#3.1\n",
    "seconds = 60\n",
    "minutes = 60\n",
    "seconds_per_hour = seconds * minutes #variable name assigned as per 3.2\n",
    "print (secondsPerHour, \"seconds per hour \\n\") #output for 3.1\n",
    "\n",
    "#3.3\n",
    "hours = 24\n",
    "seconds_per_day = seconds_per_hour * hours #variable name assigned as per 3.4\n",
    "print (seconds_per_day, \"seconds per day \\n\") #output for 3.3\n",
    "\n",
    "#3.5\n",
    "hours_per_day = seconds_per_day / seconds_per_hour\n",
    "print (hours_per_day, \"hours per day in float format\")\n",
    "\n",
    "#3.6\n",
    "hours_per_day = seconds_per_day // seconds_per_hour\n",
    "print (hours_per_day, \"hours per day in int format\")\n"
   ]
  },
  {
   "cell_type": "code",
   "execution_count": null,
   "id": "5d194138",
   "metadata": {},
   "outputs": [],
   "source": [
    "# The final values agree with each other."
   ]
  }
 ],
 "metadata": {
  "kernelspec": {
   "display_name": "Python 3 (ipykernel)",
   "language": "python",
   "name": "python3"
  },
  "language_info": {
   "codemirror_mode": {
    "name": "ipython",
    "version": 3
   },
   "file_extension": ".py",
   "mimetype": "text/x-python",
   "name": "python",
   "nbconvert_exporter": "python",
   "pygments_lexer": "ipython3",
   "version": "3.11.5"
  }
 },
 "nbformat": 4,
 "nbformat_minor": 5
}
